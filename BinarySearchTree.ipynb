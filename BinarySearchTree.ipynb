{
 "cells": [
  {
   "cell_type": "code",
   "execution_count": 1,
   "metadata": {},
   "outputs": [],
   "source": [
    "class Node(object):\n",
    "    def __init__(self, value):\n",
    "        self.value = value\n",
    "        self.left = None\n",
    "        self.right = None"
   ]
  },
  {
   "cell_type": "code",
   "execution_count": 2,
   "metadata": {},
   "outputs": [],
   "source": [
    "class BST(object):\n",
    "    def __init__(self, root):\n",
    "        self.root = Node(root)\n",
    "\n",
    "    def insert(self, new_val):\n",
    "        current = self.root\n",
    "        self.helper_insert(current, new_val)\n",
    "\n",
    "    def search(self, find_val):\n",
    "        current = self.root\n",
    "        return self.helper_search(current, find_val)\n",
    "    \n",
    "    def helper_search(self,current,find_val):\n",
    "        if current.value == find_val:\n",
    "            return True\n",
    "            \n",
    "        elif current.value > find_val:\n",
    "            if current.left:\n",
    "                return self.helper_search(current.left, find_val)\n",
    "            else:\n",
    "                return False\n",
    "        \n",
    "        elif current.value < find_val:\n",
    "            if current.right:\n",
    "                return self.helper_search(current.right, find_val)\n",
    "            else:\n",
    "                return False\n",
    "    \n",
    "    def helper_insert(self,current, new_val):\n",
    "        if current.value == new_val:\n",
    "            if current.right:\n",
    "                temp = current.right\n",
    "                current.right = Node(new_val)\n",
    "                current.right.right = temp\n",
    "            elif current.left:\n",
    "                temp = current.left\n",
    "                current.left = Node(new_val)\n",
    "                current.left.left = temp\n",
    "            else:\n",
    "                current.right = Node(new_val)\n",
    "        elif current.value > new_val:\n",
    "            if current.left:\n",
    "                self.helper_insert(current.left, new_val)\n",
    "            else:\n",
    "                current.left = Node(new_val)\n",
    "        elif current.value < new_val:\n",
    "            if current.right:\n",
    "                self.helper_insert(current.right, new_val)\n",
    "            else:\n",
    "                current.right = Node(new_val)\n",
    "            \n",
    " "
   ]
  },
  {
   "cell_type": "code",
   "execution_count": 3,
   "metadata": {},
   "outputs": [],
   "source": [
    "   \n",
    "# Set up tree\n",
    "tree = BST(4)\n",
    "\n",
    "# Insert elements\n",
    "tree.insert(2)\n",
    "tree.insert(1)\n",
    "tree.insert(3)\n",
    "tree.insert(5)"
   ]
  },
  {
   "cell_type": "code",
   "execution_count": 5,
   "metadata": {},
   "outputs": [
    {
     "name": "stdout",
     "output_type": "stream",
     "text": [
      "True\n",
      "False\n"
     ]
    }
   ],
   "source": [
    "# Check search\n",
    "# Should be True\n",
    "print (tree.search(4))\n",
    "# Should be False\n",
    "print (tree.search(6))"
   ]
  }
 ],
 "metadata": {
  "kernelspec": {
   "display_name": "Python 3",
   "language": "python",
   "name": "python3"
  },
  "language_info": {
   "codemirror_mode": {
    "name": "ipython",
    "version": 3
   },
   "file_extension": ".py",
   "mimetype": "text/x-python",
   "name": "python",
   "nbconvert_exporter": "python",
   "pygments_lexer": "ipython3",
   "version": "3.7.3"
  }
 },
 "nbformat": 4,
 "nbformat_minor": 2
}
