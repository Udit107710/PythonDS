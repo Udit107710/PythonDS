{
 "cells": [
  {
   "cell_type": "code",
   "execution_count": 1,
   "metadata": {},
   "outputs": [],
   "source": [
    "class Node(object):\n",
    "    def __init__(self, value):\n",
    "        self.value = value\n",
    "        self.edges = []"
   ]
  },
  {
   "cell_type": "code",
   "execution_count": 2,
   "metadata": {},
   "outputs": [],
   "source": [
    "class Edge(object):\n",
    "    def __init__(self, value, node_from, node_to):\n",
    "        self.value = value\n",
    "        self.node_from = node_from\n",
    "        self.node_to = node_to"
   ]
  },
  {
   "cell_type": "code",
   "execution_count": 11,
   "metadata": {},
   "outputs": [],
   "source": [
    "class Graph(object):\n",
    "    def __init__(self, nodes=[], edges=[]):\n",
    "        self.nodes = nodes\n",
    "        self.edges = edges\n",
    "\n",
    "    def insert_node(self, new_node_val):\n",
    "        new_node = Node(new_node_val)\n",
    "        self.nodes.append(new_node)\n",
    "        \n",
    "    def insert_edge(self, new_edge_val, node_from_val, node_to_val):\n",
    "        from_found = None\n",
    "        to_found = None\n",
    "        for node in self.nodes:\n",
    "            if node_from_val == node.value:\n",
    "                from_found = node\n",
    "            if node_to_val == node.value:\n",
    "                to_found = node\n",
    "        if from_found == None:\n",
    "            from_found = Node(node_from_val)\n",
    "            self.nodes.append(from_found)\n",
    "        if to_found == None:\n",
    "            to_found = Node(node_to_val)\n",
    "            self.nodes.append(to_found)\n",
    "        new_edge = Edge(new_edge_val, from_found, to_found)\n",
    "        from_found.edges.append(new_edge)\n",
    "        to_found.edges.append(new_edge)\n",
    "        self.edges.append(new_edge)\n",
    "\n",
    "    def get_edge_list(self):\n",
    "        edge_list = []\n",
    "        for edge in self.edges:\n",
    "            edge_list.append((edge.value, edge.node_from.value, edge.node_to.value))\n",
    "        return edge_list\n",
    "\n",
    "    def get_adjacency_list(self):\n",
    "        #max_value = sorted(self.nodes, key= lambda x: x.value)[-1].value\n",
    "        values = [node.value for node in self.nodes]\n",
    "        max_value = max(values)\n",
    "        adjacency_list =[]\n",
    "        for i in range(0,max_value+1):\n",
    "            temp_list = []\n",
    "            try:\n",
    "                node = self.nodes[values.index(i)]\n",
    "            except:\n",
    "                node = None\n",
    "            if node:\n",
    "                for edge in node.edges:\n",
    "                    if edge.node_from == node:\n",
    "                        temp_list.append((edge.node_to.value, edge.value))\n",
    "            if len(temp_list) ==0:\n",
    "                temp_list = None\n",
    "            adjacency_list.append(temp_list)\n",
    "        return adjacency_list\n",
    "    \n",
    "    def get_adjacency_matrix(self):\n",
    "        #max_value = sorted(self.nodes, key= lambda x: x.value)[-1].value\n",
    "        values = [node.value for node in self.nodes]\n",
    "        max_value = max(values)\n",
    "        adjacency_matrix = []\n",
    "        for i in range(0,max_value+1):\n",
    "            temp_list = [0] * (max_value+1)\n",
    "            try:\n",
    "                node = self.nodes[values.index(i)]\n",
    "            except:\n",
    "                node = None            \n",
    "            if node:\n",
    "                for edge in node.edges:\n",
    "                    if edge.node_from == node:\n",
    "                        temp_list[edge.node_to.value] = edge.value\n",
    "                        \n",
    "            adjacency_matrix.append(temp_list)\n",
    "        return adjacency_matrix"
   ]
  },
  {
   "cell_type": "code",
   "execution_count": 12,
   "metadata": {},
   "outputs": [
    {
     "name": "stdout",
     "output_type": "stream",
     "text": [
      "[(100, 1, 2), (101, 1, 3), (102, 1, 4), (103, 3, 4)]\n",
      "[None, [(2, 100), (3, 101), (4, 102)], None, [(4, 103)], None]\n",
      "[[0, 0, 0, 0, 0], [0, 0, 100, 101, 102], [0, 0, 0, 0, 0], [0, 0, 0, 0, 103], [0, 0, 0, 0, 0]]\n"
     ]
    }
   ],
   "source": [
    "graph = Graph()\n",
    "graph.insert_edge(100, 1, 2)\n",
    "graph.insert_edge(101, 1, 3)\n",
    "graph.insert_edge(102, 1, 4)\n",
    "graph.insert_edge(103, 3, 4)\n",
    "# Should be [(100, 1, 2), (101, 1, 3), (102, 1, 4), (103, 3, 4)]\n",
    "print (graph.get_edge_list())\n",
    "# Should be [None, [(2, 100), (3, 101), (4, 102)], None, [(4, 103)], None]\n",
    "print (graph.get_adjacency_list())\n",
    "# Should be [[0, 0, 0, 0, 0], [0, 0, 100, 101, 102], [0, 0, 0, 0, 0], [0, 0, 0, 0, 103], [0, 0, 0, 0, 0]]\n",
    "print (graph.get_adjacency_matrix())"
   ]
  }
 ],
 "metadata": {
  "kernelspec": {
   "display_name": "Python 3",
   "language": "python",
   "name": "python3"
  },
  "language_info": {
   "codemirror_mode": {
    "name": "ipython",
    "version": 3
   },
   "file_extension": ".py",
   "mimetype": "text/x-python",
   "name": "python",
   "nbconvert_exporter": "python",
   "pygments_lexer": "ipython3",
   "version": "3.7.3"
  }
 },
 "nbformat": 4,
 "nbformat_minor": 2
}
