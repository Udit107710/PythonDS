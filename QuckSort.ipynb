{
 "cells": [
  {
   "cell_type": "code",
   "execution_count": 72,
   "metadata": {},
   "outputs": [],
   "source": [
    "def quicksort(array):\n",
    "    if len(array) <= 1:\n",
    "        return array\n",
    "    pivot = len(array) - 1\n",
    "    i = 0\n",
    "    while i < pivot:\n",
    "        if array[i] > array[pivot]:\n",
    "            array = swap(array, i, pivot)\n",
    "            array = swap(array, i, pivot-1)\n",
    "            pivot = pivot - 1\n",
    "            i = i-1\n",
    "        i = i+1\n",
    "    \n",
    "    array[0:pivot] = quicksort(array[0:pivot])\n",
    "    array[pivot+1:] = quicksort(array[pivot+1:])\n",
    "    return array"
   ]
  },
  {
   "cell_type": "code",
   "execution_count": 27,
   "metadata": {},
   "outputs": [],
   "source": [
    "def swap(array, index_1, index_2):\n",
    "    temp = array[index_1]\n",
    "    array[index_1] = array[index_2]\n",
    "    array[index_2] = temp\n",
    "    return array"
   ]
  },
  {
   "cell_type": "code",
   "execution_count": 71,
   "metadata": {},
   "outputs": [
    {
     "data": {
      "text/plain": [
       "[9, 9, 9, 3.2, 4]"
      ]
     },
     "execution_count": 71,
     "metadata": {},
     "output_type": "execute_result"
    }
   ],
   "source": [
    "a = [4,5]\n",
    "a.extend([4,3.2,4])\n",
    "a[0:3] = [9,9,9]\n",
    "a"
   ]
  },
  {
   "cell_type": "code",
   "execution_count": 73,
   "metadata": {},
   "outputs": [
    {
     "name": "stdout",
     "output_type": "stream",
     "text": [
      "[1, 3, 4, 6, 9, 14, 20, 21, 21, 25]\n"
     ]
    }
   ],
   "source": [
    "test = [21, 4, 1, 3, 9, 20, 25, 6, 21, 14]\n",
    "print (quicksort(test))"
   ]
  }
 ],
 "metadata": {
  "kernelspec": {
   "display_name": "Python 3",
   "language": "python",
   "name": "python3"
  },
  "language_info": {
   "codemirror_mode": {
    "name": "ipython",
    "version": 3
   },
   "file_extension": ".py",
   "mimetype": "text/x-python",
   "name": "python",
   "nbconvert_exporter": "python",
   "pygments_lexer": "ipython3",
   "version": "3.7.3"
  }
 },
 "nbformat": 4,
 "nbformat_minor": 2
}
