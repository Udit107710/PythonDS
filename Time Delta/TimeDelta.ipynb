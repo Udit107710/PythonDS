{
 "cells": [
  {
   "cell_type": "code",
   "execution_count": 1,
   "metadata": {},
   "outputs": [],
   "source": [
    "import math\n",
    "import os\n",
    "import random\n",
    "import re\n",
    "import sys"
   ]
  },
  {
   "cell_type": "code",
   "execution_count": 28,
   "metadata": {},
   "outputs": [],
   "source": [
    "def time_delta(t1, t2):\n",
    "    map_day_to_number = {\n",
    "        \"Jan\" : 1,\n",
    "        \"January\" : 1,\n",
    "        \"Feb\" : 2,\n",
    "        \"February\" : 2,\n",
    "        \"Mar\" : 3,\n",
    "        \"March\" : 3,\n",
    "        \"Apr\" : 4,\n",
    "        \"April\" : 4,\n",
    "        \"May\" : 5,\n",
    "        \"Jun\" : 6,\n",
    "        \"June\" : 6,\n",
    "        \"Jul\" : 7,\n",
    "        \"July\" : 7,\n",
    "        \"Aug\" : 8,\n",
    "        \"August\" : 8,\n",
    "        \"Sep\" : 9,\n",
    "        \"September\" : 9,\n",
    "        \"Oct\" : 10,\n",
    "        \"October\" : 10,\n",
    "        \"Nov\" : 11,\n",
    "        \"November\" : 11,\n",
    "        \"Dec\" : 12,\n",
    "        \"December\" : 12\n",
    "    }\n",
    "    \n",
    "    split_data_1 = t1.split(\" \")\n",
    "    split_data_2 = t2.split(\" \")\n",
    "    \n",
    "    date_day_1 = split_data_1[1]\n",
    "    date_day_2 = split_data_2[1]\n",
    "    \n",
    "    date_month_1 = split_data_1[2]\n",
    "    date_month_2 = split_data_2[2]\n",
    "    \n",
    "    date_year_1 = split_data_1[3]\n",
    "    date_year_2 = split_data_2[3]\n",
    "\n",
    "    temp_1 = split_data_1[4]\n",
    "    temp_2 = split_data_2[4]\n",
    "\n",
    "    hours1,minutes1,seconds1 = int(temp_1.split(\":\")[0]),int(temp_1.split(\":\")[1]),int(temp_1.split(\":\")[2])\n",
    "    hours2,minutes2,seconds2 = int(temp_2.split(\":\")[0]),int(temp_2.split(\":\")[1]),int(temp_2.split(\":\")[2])\n",
    "    \n",
    "    temp_1 = split_data_1[5]\n",
    "    temp_2 = split_data_2[5]\n",
    "    \n",
    "    result = abs(no_of_days_till_now(date_day_1,map_day_to_number[date_month_1], date_year_1)-no_of_days_till_now(date_day_2,map_day_to_number[date_month_2], date_year_2))*3600*24 + (abs(hours1-hours2))*3600 + (abs(minutes1-minutes2))*60 + seconds1-seconds2 + (int(temp_1[-2:])-int(temp_2[-2:]))*60 + (int(temp_1[:-2])-int(temp_2[:-2]))*3600\n",
    "    \n",
    "    return str(abs(result))\n",
    "\n",
    "def no_of_days_till_now(date, month, year):\n",
    "    date = int(date)\n",
    "    month = int(month)\n",
    "    year = int(year)\n",
    "    days_in_months = [31,28,31,30,31,30,31,31,30,31,30,31]\n",
    "    \n",
    "    no_of_days = date\n",
    "    no_of_days += year*365\n",
    "    \n",
    "    if month > 2:\n",
    "        no_of_days += (year/4 - year/100 + year/400)\n",
    "    else:\n",
    "        no_of_days = ((year-1)/4 - (year-1)/100 + (year-1)/400)\n",
    "        \n",
    "        \n",
    "    no_of_days += sum(days_in_months[0:month])\n",
    "    \n",
    "    return int(no_of_days)\n",
    "        "
   ]
  },
  {
   "cell_type": "code",
   "execution_count": 31,
   "metadata": {},
   "outputs": [
    {
     "name": "stdout",
     "output_type": "stream",
     "text": [
      "1\n",
      "Sat 02 May 2015 19:54:36 +0530\n",
      "Fri 01 May 2015 13:54:36 -0000\n",
      "127800\n"
     ]
    }
   ],
   "source": [
    "if __name__ == '__main__':\n",
    "    #fptr = open(os.environ['OUTPUT_PATH'], 'w')\n",
    "\n",
    "    t = int(input())\n",
    "\n",
    "    for t_itr in range(t):\n",
    "        t1 = input()\n",
    "\n",
    "        t2 = input()\n",
    "\n",
    "        delta = time_delta(t1, t2)\n",
    "        print(delta)\n",
    "\n",
    "        #fptr.write(delta + '\\n')\n",
    "\n",
    "    #fptr.close()\n",
    "    "
   ]
  }
 ],
 "metadata": {
  "kernelspec": {
   "display_name": "Python 3",
   "language": "python",
   "name": "python3"
  },
  "language_info": {
   "codemirror_mode": {
    "name": "ipython",
    "version": 3
   },
   "file_extension": ".py",
   "mimetype": "text/x-python",
   "name": "python",
   "nbconvert_exporter": "python",
   "pygments_lexer": "ipython3",
   "version": "3.7.3"
  }
 },
 "nbformat": 4,
 "nbformat_minor": 2
}
